{
    "cells": [
        {
            "cell_type": "markdown",
            "id": "ac622319",
            "metadata": {},
            "source": [
                "# Descriptive statistics problems"
            ]
        },
        {
            "cell_type": "markdown",
            "id": "5e0ab0d5",
            "metadata": {},
            "source": [
                "### Exercise 1\n",
                "\n",
                "We will use NumPy to obtain information to describe statistically.\n",
                "\n",
                "- Generate an array of 100 elements following a normal distribution.\n",
                "- Generate an array of 100 elements following a chi-square distribution with 3 degrees of freedom.\n",
                "- Calculate the main metrics and statistical measures that best describe the two vectors."
            ]
        },
        {
            "cell_type": "code",
            "execution_count": 31,
            "id": "34720ab6",
            "metadata": {},
            "outputs": [
                {
                    "name": "stdout",
                    "output_type": "stream",
                    "text": [
                        "Normal: [ 0.99719684 -0.07211286 -0.38049922 -1.21491443  1.43054356 -0.39648937\n",
                        " -1.15466516 -0.40252899 -0.61912165  0.6770108  -0.41715788 -0.52913781\n",
                        " -1.15655362 -0.34294256  0.82751309 -0.1605005   1.21613856 -0.32260008\n",
                        " -0.36550004 -1.91728456 -0.11519387 -0.144886    1.25355895 -1.02675553\n",
                        "  0.98033474  0.585701   -0.33671668 -1.92965791  1.00937772 -0.24551766\n",
                        " -0.38965962  0.83601879  1.54765752  0.63691062  0.55678034  1.2435631\n",
                        " -1.40230908  0.70109162  0.10849727  1.66701989  0.18096686 -0.06048662\n",
                        " -0.78437662  1.85005387  0.10812078  0.61381064 -0.20449346 -0.34803583\n",
                        " -0.16604571  1.03423713 -0.71420386  1.5130519  -1.60214553 -0.07018099\n",
                        "  0.44747909 -1.44543399 -1.33096078 -0.71816374  0.96054851 -0.5654794\n",
                        " -1.7187059  -1.14168697 -1.11804322 -0.28775273 -0.84659677 -0.06134674\n",
                        "  0.30006409 -0.46623943 -0.93941383 -0.47598407 -0.36849606  3.00320473\n",
                        " -1.48554656  1.90553618  0.20721311  2.81065724 -0.42884495  0.30168304\n",
                        " -0.70284712 -0.88293504 -0.76578587 -1.21741422  0.08636038 -1.18968424\n",
                        "  1.17351955 -0.64113165  2.71853859  1.07801923 -0.90616189  1.6355182\n",
                        " -0.01209843 -0.25977019  1.42666048  0.38109408 -0.00420167 -1.37883369\n",
                        " -0.04020051  1.71342864 -0.01635033 -0.26831928]\n",
                        "Chi-square: [ 2.25254311  9.39344116  1.48324654  1.94090648  1.50846715  3.36922248\n",
                        "  6.06260232  0.75159996  6.69319208  0.43983103 12.79136807  2.11553801\n",
                        "  5.62101875  5.39467828  0.50770988  4.08690388  0.12280387  0.77367212\n",
                        "  0.32100668  1.7445089   1.01391558  0.40930232  7.03010991  0.29919296\n",
                        "  1.80558953  0.58016967  1.1741041   2.28005973  3.25471255 14.15366113\n",
                        "  0.49994283  1.17879218  1.87220136  1.62473305  3.03338913  0.7175554\n",
                        "  6.50124058  2.78315536  3.38900076  3.65856854  0.91436925  4.7647792\n",
                        "  1.18473339  3.05127708  3.57381016  2.38372172  1.81807745  1.9905499\n",
                        "  3.22505521  5.56179712  0.4351831   0.66967614  1.37438774  3.03005125\n",
                        "  2.35709783  5.51281178  0.96743988  3.23816978  0.86202859  2.76328111\n",
                        "  0.96144282  2.39574029  2.75833752  4.60058177  6.511518    6.18856992\n",
                        "  1.33030732  0.58348495  1.19815439  0.4544028   1.08449632  1.96716821\n",
                        "  0.39127284  7.59923982  4.78493042  1.56301997  3.27094391  0.9137248\n",
                        "  2.52355658  4.19191196  2.30332995  2.18939382  1.67280063  1.65140148\n",
                        "  3.54268817  0.3849697   3.78985326  4.12397432  1.44821292  0.99541779\n",
                        "  2.08423792  4.12402749  1.87180506  4.19072389  2.69021511  6.30493884\n",
                        "  1.43016517  2.96362673  0.57398811  2.72047383]\n"
                    ]
                }
            ],
            "source": [
                "# TODO\n",
                "\n",
                "import numpy as np\n",
                "import pandas as pd\n",
                "\n",
                "# array of 100 elements normal distribution\n",
                "\n",
                "normal = np.random.normal(loc = 0, size = 100)\n",
                "\n",
                "# array of 100 chi-square distribution\n",
                "\n",
                "chi = np.random.chisquare(df = 3, size = 100)\n",
                "\n",
                "# Calculate the main metrics and statistical measures that best describe the two vectors\n",
                "\n",
                "\n",
                "print(f\"Normal: {normal}\")\n",
                "\n",
                "print(f\"Chi-square: {chi}\")\n"
            ]
        },
        {
            "cell_type": "code",
            "execution_count": 37,
            "id": "e5300e50",
            "metadata": {},
            "outputs": [
                {
                    "name": "stdout",
                    "output_type": "stream",
                    "text": [
                        "{'Normal mean: 0.010475777777267619'}\n",
                        "{'Chi mean: 2.8064100391781737'}\n"
                    ]
                }
            ],
            "source": [
                "# Descriptive\n",
                "\n",
                "import statistics as stats\n",
                "\n",
                "print({f\"Normal mean: {stats.mean(normal)}\"})\n",
                "print({f\"Chi mean: {stats.mean(chi)}\"})"
            ]
        },
        {
            "cell_type": "code",
            "execution_count": 36,
            "id": "2b4c6087",
            "metadata": {},
            "outputs": [
                {
                    "name": "stdout",
                    "output_type": "stream",
                    "text": [
                        "{'Normal median: -0.16327310729383604'}\n",
                        "{'Chi median: 2.1524659125759653'}\n"
                    ]
                }
            ],
            "source": [
                "import statistics as stats\n",
                "\n",
                "print({f\"Normal median: {stats.median(normal)}\"})\n",
                "print({f\"Chi median: {stats.median(chi)}\"})"
            ]
        },
        {
            "cell_type": "code",
            "execution_count": 38,
            "id": "bdf38d63",
            "metadata": {},
            "outputs": [
                {
                    "name": "stdout",
                    "output_type": "stream",
                    "text": [
                        "{'Normal mode: 0.9971968417142278'}\n",
                        "{'Chi mode: 2.252543112211929'}\n"
                    ]
                }
            ],
            "source": [
                "import statistics as stats\n",
                "\n",
                "print({f\"Normal mode: {stats.mode(normal)}\"})\n",
                "print({f\"Chi mode: {stats.mode(chi)}\"})"
            ]
        },
        {
            "cell_type": "code",
            "execution_count": 43,
            "id": "46b3959e",
            "metadata": {},
            "outputs": [
                {
                    "name": "stdout",
                    "output_type": "stream",
                    "text": [
                        "Range normal: 4.932862632225444\n",
                        "Range chi: 14.030857261657257\n"
                    ]
                }
            ],
            "source": [
                "import statistics as stats\n",
                "\n",
                "range_ = max(normal) - min(normal)\n",
                "print(f\"Range normal: {range_}\")\n",
                "\n",
                "range2_ = max(chi) - min(chi)\n",
                "print(f\"Range chi: {range2_}\")"
            ]
        },
        {
            "cell_type": "code",
            "execution_count": 44,
            "id": "4bf6fc54",
            "metadata": {},
            "outputs": [
                {
                    "name": "stdout",
                    "output_type": "stream",
                    "text": [
                        "Variance normal: 1.0950639050305517\n",
                        "Standard deviation normal: 1.0464530113820456\n",
                        "Variance chi: 6.105879487054769\n",
                        "Standard deviation chi: 2.471007787736568\n"
                    ]
                }
            ],
            "source": [
                "import statistics as stats\n",
                "\n",
                "variance = stats.variance(normal)\n",
                "std = stats.stdev(normal)\n",
                "print(f\"Variance normal: {variance}\")\n",
                "print(f\"Standard deviation normal: {std}\")\n",
                "\n",
                "variance = stats.variance(chi)\n",
                "std = stats.stdev(chi)\n",
                "print(f\"Variance chi: {variance}\")\n",
                "print(f\"Standard deviation chi: {std}\")"
            ]
        },
        {
            "cell_type": "markdown",
            "id": "46c70c3d",
            "metadata": {},
            "source": [
                "### Exercise 2\n",
                "\n",
                "Write a Python program to calculate the standard deviation of the following data:\n",
                "\n",
                "```py\n",
                "data = [4, 2, 5, 8, 6]\n",
                "```"
            ]
        },
        {
            "cell_type": "code",
            "execution_count": 47,
            "id": "d590308e",
            "metadata": {},
            "outputs": [
                {
                    "data": {
                        "text/plain": [
                            "2.23606797749979"
                        ]
                    },
                    "execution_count": 47,
                    "metadata": {},
                    "output_type": "execute_result"
                }
            ],
            "source": [
                "# TODO\n",
                "\n",
                "import statistics as stats\n",
                "\n",
                "data = [4, 2, 5, 8, 6]\n",
                "\n",
                "std = stats.stdev(data)\n",
                "std"
            ]
        },
        {
            "cell_type": "code",
            "execution_count": 6,
            "id": "3e793508",
            "metadata": {},
            "outputs": [
                {
                    "name": "stdout",
                    "output_type": "stream",
                    "text": [
                        "Sample Data: [4, 2, 5, 8, 6]\n",
                        "Standard Deviation: 2.23606797749979\n"
                    ]
                }
            ],
            "source": [
                "import math\n",
                "\n",
                "data = [4, 2, 5, 8, 6]\n",
                "\n",
                "def calculo_desviacion(data):\n",
                "    n = len(data)\n",
                "\n",
                "    if (n <= 1):\n",
                "        return 0.0\n",
                "    \n",
                "    mean, sd = calculo_media(data), 0.0\n",
                "\n",
                "    for d in data:\n",
                "        sd += (float(d) - mean) ** 2\n",
                "    sd = math.sqrt(sd / float(n - 1))\n",
                "    return sd\n",
                "\n",
                "def calculo_media(data):\n",
                "    n, mean = len(data), 0.0\n",
                "\n",
                "    if (n <= 1):\n",
                "        return data[0]\n",
                "    \n",
                "    for d in data:\n",
                "        mean = mean + float(d)\n",
                "\n",
                "    mean = mean / float(n)\n",
                "    return mean\n",
                "\n",
                "print(f\"Sample Data: {data}\")\n",
                "print(f\"Standard Deviation: {calculo_desviacion(data)}\")"
            ]
        }
    ],
    "metadata": {
        "kernelspec": {
            "display_name": "Python 3",
            "language": "python",
            "name": "python3"
        },
        "language_info": {
            "codemirror_mode": {
                "name": "ipython",
                "version": 3
            },
            "file_extension": ".py",
            "mimetype": "text/x-python",
            "name": "python",
            "nbconvert_exporter": "python",
            "pygments_lexer": "ipython3",
            "version": "3.11.4"
        }
    },
    "nbformat": 4,
    "nbformat_minor": 5
}
